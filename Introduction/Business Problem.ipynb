{
    "cells": [
        {
            "metadata": {
                "collapsed": true
            },
            "cell_type": "markdown",
            "source": "# Introduction/Business Problem"
        },
        {
            "metadata": {},
            "cell_type": "markdown",
            "source": "Moving to another place due to different factors such as work or family is a challenging situation. This is because everything changes, specially the way our life is organized, everyone has their everyday locations like schools, shops, restaurants, etc. People often searches for places similar to their previous ones so it is easier to adapt, that is why it is useful to have an idea where to look so you can find you new home easily, even if you want a complete change in your lifestyle, knowing the structure of a country or state is important."
        },
        {
            "metadata": {},
            "cell_type": "markdown",
            "source": "Data related to common venues in some areas is effective at determinating simmilarities between places, particulary our previous residence. This project aims to segment areas in a country or state that have similarities in certain common venues so selecting a new address is easier. In this project I will focus on someone moving from Azcapotzalco, Mexico City to Queretaro, Queretaro, but it can be done anywhere."
        },
        {
            "metadata": {},
            "cell_type": "markdown",
            "source": "Obviously, people wanting to move would be interested in making easier their search, however, due to the nature of this project which is to cluster areas of a country or state, it can be useful for other kind of people."
        }
    ],
    "metadata": {
        "kernelspec": {
            "name": "python3",
            "display_name": "Python 3.7",
            "language": "python"
        },
        "language_info": {
            "name": "python",
            "version": "3.7.10",
            "mimetype": "text/x-python",
            "codemirror_mode": {
                "name": "ipython",
                "version": 3
            },
            "pygments_lexer": "ipython3",
            "nbconvert_exporter": "python",
            "file_extension": ".py"
        }
    },
    "nbformat": 4,
    "nbformat_minor": 1
}