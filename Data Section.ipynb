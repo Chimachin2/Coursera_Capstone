{
    "cells": [
        {
            "metadata": {
                "collapsed": true
            },
            "cell_type": "markdown",
            "source": "# Data Section"
        },
        {
            "metadata": {},
            "cell_type": "markdown",
            "source": "I found a website from the INEGI, which is a mexican organization in charge of the poblational census, which provided geographical data abot Mexico, I downloaded 2 datasets about the boroughs and geographical coordinates of Mexico City and Queretaro, this data will be used along with the foursquare location data, which provides data about venues, to find about the ones located in the necessary boroughs."
        },
        {
            "metadata": {},
            "cell_type": "code",
            "source": "",
            "execution_count": null,
            "outputs": []
        }
    ],
    "metadata": {
        "kernelspec": {
            "name": "python3",
            "display_name": "Python 3.7",
            "language": "python"
        },
        "language_info": {
            "name": "python",
            "version": "3.7.10",
            "mimetype": "text/x-python",
            "codemirror_mode": {
                "name": "ipython",
                "version": 3
            },
            "pygments_lexer": "ipython3",
            "nbconvert_exporter": "python",
            "file_extension": ".py"
        }
    },
    "nbformat": 4,
    "nbformat_minor": 1
}