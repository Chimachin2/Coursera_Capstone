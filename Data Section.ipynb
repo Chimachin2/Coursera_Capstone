{
    "cells": [
        {
            "metadata": {
                "collapsed": true
            },
            "cell_type": "markdown",
            "source": "# Data Section"
        },
        {
            "metadata": {},
            "cell_type": "markdown",
            "source": "I found a website from the INEGI, which is a mexican organization in charge of the poblational census, which provided geographical data abot Mexico, I downloaded 2 datasets about the boroughs and geographical coordinates of Mexico City and Queretaro, this data will be used along with the foursquare location data, which provides data about venues, to find about the ones located in some boroughs\n\nMost player stats, position, age, and draft position data can be found in two Kaggle datasets here and here. These two datasets, however, lack data for certain years. For example, the player stats dataset ends in 2017, and the player draft dataset starts in 1978 and ends in 2015. To complement\nthese two datasets, I scraped basketball-reference.com for player season stats of 2018 and player draft positions of 1965-1977 and 2016-2017 (players drafted in 2018 has yet to play in NBA)."
        }
    ],
    "metadata": {
        "kernelspec": {
            "name": "python3",
            "display_name": "Python 3.7",
            "language": "python"
        },
        "language_info": {
            "name": "python",
            "version": "3.7.10",
            "mimetype": "text/x-python",
            "codemirror_mode": {
                "name": "ipython",
                "version": 3
            },
            "pygments_lexer": "ipython3",
            "nbconvert_exporter": "python",
            "file_extension": ".py"
        }
    },
    "nbformat": 4,
    "nbformat_minor": 1
}